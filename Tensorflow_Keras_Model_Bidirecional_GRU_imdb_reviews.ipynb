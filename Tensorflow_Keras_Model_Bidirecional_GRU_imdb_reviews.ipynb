{
  "nbformat": 4,
  "nbformat_minor": 0,
  "metadata": {
    "accelerator": "GPU",
    "colab": {
      "name": "NLP_Tensorflow_Keras_Model-Bidirecional-GRU_imdb_reviews.ipynb",
      "provenance": [],
      "collapsed_sections": []
    },
    "kernelspec": {
      "display_name": "Python 3.7.4 64-bit ('base': conda)",
      "language": "python",
      "name": "python37464bitbaseconda6cde426f2f0c434aa92965c4e83d0f66"
    },
    "language_info": {
      "codemirror_mode": {
        "name": "ipython",
        "version": 3
      },
      "file_extension": ".py",
      "mimetype": "text/x-python",
      "name": "python",
      "nbconvert_exporter": "python",
      "pygments_lexer": "ipython3",
      "version": "3.7.4"
    }
  },
  "cells": [
    {
      "cell_type": "markdown",
      "metadata": {
        "id": "YMos7L8qvPU-"
      },
      "source": [
        "# Classificador com Tensorflow"
      ]
    },
    {
      "cell_type": "markdown",
      "metadata": {
        "id": "pQ3S4j_9vPVD"
      },
      "source": [
        "## Imports"
      ]
    },
    {
      "cell_type": "code",
      "metadata": {
        "id": "P-AhVYeBWgQ3",
        "colab": {
          "base_uri": "https://localhost:8080/"
        },
        "outputId": "4c347307-0d4e-4f29-f652-2b35e075598c"
      },
      "source": [
        "import tensorflow as tf\n",
        "print(tf.__version__)"
      ],
      "execution_count": 1,
      "outputs": [
        {
          "output_type": "stream",
          "text": [
            "2.4.1\n"
          ],
          "name": "stdout"
        }
      ]
    },
    {
      "cell_type": "code",
      "metadata": {
        "colab": {
          "base_uri": "https://localhost:8080/"
        },
        "id": "mDsprFBRvPVE",
        "outputId": "6531514d-80b6-488d-ed05-63561a23257f"
      },
      "source": [
        "import keras as k\n",
        "print(k.__version__)"
      ],
      "execution_count": 2,
      "outputs": [
        {
          "output_type": "stream",
          "text": [
            "2.4.3\n"
          ],
          "name": "stdout"
        }
      ]
    },
    {
      "cell_type": "code",
      "metadata": {
        "id": "zDe9xUMlvPVE"
      },
      "source": [
        "import numpy as np\n",
        "\n",
        "from tensorflow.keras.preprocessing.text import Tokenizer\n",
        "from tensorflow.keras.preprocessing.sequence import pad_sequences\n",
        "import tensorflow_datasets as tfds\n",
        "\n",
        "import matplotlib.pyplot as plt"
      ],
      "execution_count": 3,
      "outputs": []
    },
    {
      "cell_type": "markdown",
      "metadata": {
        "id": "BlGSPhyovPVF"
      },
      "source": [
        "## Import Data"
      ]
    },
    {
      "cell_type": "code",
      "metadata": {
        "id": "_IoM4VFxWpMR"
      },
      "source": [
        "imdb, info = tfds.load(\"imdb_reviews\", with_info=True, as_supervised=True)"
      ],
      "execution_count": 5,
      "outputs": []
    },
    {
      "cell_type": "code",
      "metadata": {
        "colab": {
          "base_uri": "https://localhost:8080/"
        },
        "id": "R3PCdBbqvPVF",
        "outputId": "01879ee0-f8b3-4963-af73-4e6454b42af6"
      },
      "source": [
        "print(info)"
      ],
      "execution_count": 6,
      "outputs": [
        {
          "output_type": "stream",
          "text": [
            "tfds.core.DatasetInfo(\n",
            "    name='imdb_reviews',\n",
            "    version=1.0.0,\n",
            "    description='Large Movie Review Dataset.\n",
            "This is a dataset for binary sentiment classification containing substantially more data than previous benchmark datasets. We provide a set of 25,000 highly polar movie reviews for training, and 25,000 for testing. There is additional unlabeled data for use as well.',\n",
            "    homepage='http://ai.stanford.edu/~amaas/data/sentiment/',\n",
            "    features=FeaturesDict({\n",
            "        'label': ClassLabel(shape=(), dtype=tf.int64, num_classes=2),\n",
            "        'text': Text(shape=(), dtype=tf.string),\n",
            "    }),\n",
            "    total_num_examples=100000,\n",
            "    splits={\n",
            "        'test': 25000,\n",
            "        'train': 25000,\n",
            "        'unsupervised': 50000,\n",
            "    },\n",
            "    supervised_keys=('text', 'label'),\n",
            "    citation=\"\"\"@InProceedings{maas-EtAl:2011:ACL-HLT2011,\n",
            "      author    = {Maas, Andrew L.  and  Daly, Raymond E.  and  Pham, Peter T.  and  Huang, Dan  and  Ng, Andrew Y.  and  Potts, Christopher},\n",
            "      title     = {Learning Word Vectors for Sentiment Analysis},\n",
            "      booktitle = {Proceedings of the 49th Annual Meeting of the Association for Computational Linguistics: Human Language Technologies},\n",
            "      month     = {June},\n",
            "      year      = {2011},\n",
            "      address   = {Portland, Oregon, USA},\n",
            "      publisher = {Association for Computational Linguistics},\n",
            "      pages     = {142--150},\n",
            "      url       = {http://www.aclweb.org/anthology/P11-1015}\n",
            "    }\"\"\",\n",
            "    redistribution_info=,\n",
            ")\n",
            "\n"
          ],
          "name": "stdout"
        }
      ]
    },
    {
      "cell_type": "markdown",
      "metadata": {
        "id": "V9yHskClvPVG"
      },
      "source": [
        "## Divisão em Treino e Teste"
      ]
    },
    {
      "cell_type": "code",
      "metadata": {
        "id": "GSiWG6VpvPVG"
      },
      "source": [
        "train_data, test_data = imdb['train'], imdb['test']"
      ],
      "execution_count": 7,
      "outputs": []
    },
    {
      "cell_type": "markdown",
      "metadata": {
        "id": "d678sh6_vPVG"
      },
      "source": [
        "### Divisão em Labels e Sentences"
      ]
    },
    {
      "cell_type": "code",
      "metadata": {
        "id": "wHQ2Ko0zl7M4"
      },
      "source": [
        "training_sentences = []\n",
        "training_labels = []\n",
        "\n",
        "testing_sentences = []\n",
        "testing_labels = []\n",
        "\n",
        "\n",
        "\n",
        "for s,l in train_data:\n",
        "    training_sentences.append(str(s.numpy()))\n",
        "    training_labels.append(l.numpy())\n",
        "\n",
        "for s,l in test_data:\n",
        "    testing_sentences.append(str(s.numpy()))\n",
        "    testing_labels.append(l.numpy())"
      ],
      "execution_count": 8,
      "outputs": []
    },
    {
      "cell_type": "code",
      "metadata": {
        "colab": {
          "base_uri": "https://localhost:8080/",
          "height": 86
        },
        "id": "ZcL4Fds1vPVH",
        "outputId": "a8b5c751-def7-4dac-c4f1-cff7be80f29f"
      },
      "source": [
        "training_sentences[0]"
      ],
      "execution_count": 9,
      "outputs": [
        {
          "output_type": "execute_result",
          "data": {
            "application/vnd.google.colaboratory.intrinsic+json": {
              "type": "string"
            },
            "text/plain": [
              "'b\"This was an absolutely terrible movie. Don\\'t be lured in by Christopher Walken or Michael Ironside. Both are great actors, but this must simply be their worst role in history. Even their great acting could not redeem this movie\\'s ridiculous storyline. This movie is an early nineties US propaganda piece. The most pathetic scenes were those when the Columbian rebels were making their cases for revolutions. Maria Conchita Alonso appeared phony, and her pseudo-love affair with Walken was nothing but a pathetic emotional plug in a movie that was devoid of any real meaning. I am disappointed that there are movies like this, ruining actor\\'s like Christopher Walken\\'s good name. I could barely sit through it.\"'"
            ]
          },
          "metadata": {
            "tags": []
          },
          "execution_count": 9
        }
      ]
    },
    {
      "cell_type": "code",
      "metadata": {
        "colab": {
          "base_uri": "https://localhost:8080/"
        },
        "id": "9MUBNr_FvPVH",
        "outputId": "4b16b0a9-7ab6-4020-a806-44a9714f9514"
      },
      "source": [
        "training_labels[0]"
      ],
      "execution_count": 10,
      "outputs": [
        {
          "output_type": "execute_result",
          "data": {
            "text/plain": [
              "0"
            ]
          },
          "metadata": {
            "tags": []
          },
          "execution_count": 10
        }
      ]
    },
    {
      "cell_type": "markdown",
      "metadata": {
        "id": "wKJA67nkvPVH"
      },
      "source": [
        "# Criando objeto Labels NumPy array"
      ]
    },
    {
      "cell_type": "code",
      "metadata": {
        "id": "A3yeI_oWvPVI"
      },
      "source": [
        "training_labels_final = np.array(training_labels)\n",
        "testing_labels_final = np.array(testing_labels)"
      ],
      "execution_count": 11,
      "outputs": []
    },
    {
      "cell_type": "code",
      "metadata": {
        "colab": {
          "base_uri": "https://localhost:8080/"
        },
        "id": "xf2jWAenvPVI",
        "outputId": "9f2989c6-c65f-4cc5-ccc8-811dadcbb278"
      },
      "source": [
        "training_labels_final"
      ],
      "execution_count": 12,
      "outputs": [
        {
          "output_type": "execute_result",
          "data": {
            "text/plain": [
              "array([0, 0, 0, ..., 0, 0, 1])"
            ]
          },
          "metadata": {
            "tags": []
          },
          "execution_count": 12
        }
      ]
    },
    {
      "cell_type": "code",
      "metadata": {
        "colab": {
          "base_uri": "https://localhost:8080/"
        },
        "id": "8nBmPwvmvPVI",
        "outputId": "89c2bc7f-0966-4135-be1b-f6e2164336cb"
      },
      "source": [
        "testing_labels_final"
      ],
      "execution_count": 13,
      "outputs": [
        {
          "output_type": "execute_result",
          "data": {
            "text/plain": [
              "array([1, 1, 0, ..., 0, 1, 1])"
            ]
          },
          "metadata": {
            "tags": []
          },
          "execution_count": 13
        }
      ]
    },
    {
      "cell_type": "markdown",
      "metadata": {
        "id": "we-ykZJ4vPVI"
      },
      "source": [
        "# Hiperparametros"
      ]
    },
    {
      "cell_type": "code",
      "metadata": {
        "id": "7n15yyMdmoH1"
      },
      "source": [
        "vocab_size = 10000  #Tamanho do vocabulário\n",
        "embedding_dim = 16   #Tamanho da dimensão\n",
        "max_length = 120 # Tamanho do comprimento da sequencia de pad_sequences\n",
        "trunc_type='post'\n",
        "oov_tok = \"<OOV>\""
      ],
      "execution_count": 14,
      "outputs": []
    },
    {
      "cell_type": "markdown",
      "metadata": {
        "id": "6Uaz8TeRvPVJ"
      },
      "source": [
        "# Tokenizer"
      ]
    },
    {
      "cell_type": "markdown",
      "metadata": {
        "id": "iFcCcv2xvPVJ"
      },
      "source": [
        "### Training"
      ]
    },
    {
      "cell_type": "code",
      "metadata": {
        "id": "-XKO9kbFvPVJ"
      },
      "source": [
        "# Instanciar Tokenizer\n",
        "tokenizer = Tokenizer(num_words = vocab_size, oov_token=oov_tok)\n",
        "\n",
        "\n",
        "# Função tokenizer para lista de frases\n",
        "tokenizer.fit_on_texts(training_sentences)\n",
        "\n",
        "# Substitui palavras fora do vocabulário durante as chamadas text_to_sequence (OOV)\n",
        "word_index = tokenizer.word_index\n",
        "\n",
        "# Transforma cada texto em uma sequência de inteiros.\n",
        "sequences = tokenizer.texts_to_sequences(training_sentences)\n",
        "\n",
        "# Transforma uma lista de sequências em uma matriz Numpy 2D\n",
        "padded = pad_sequences(sequences,maxlen=max_length, truncating=trunc_type)"
      ],
      "execution_count": 15,
      "outputs": []
    },
    {
      "cell_type": "markdown",
      "metadata": {
        "id": "huX-gWFCvPVJ"
      },
      "source": [
        "### Testing"
      ]
    },
    {
      "cell_type": "code",
      "metadata": {
        "id": "QKdD_EPkvPVJ"
      },
      "source": [
        "# Transforma cada texto em uma sequência de inteiros.\n",
        "testing_sequences = tokenizer.texts_to_sequences(testing_sentences)\n",
        "\n",
        "# Transforma uma lista de sequências em uma matriz Numpy 2D\n",
        "testing_padded = pad_sequences(testing_sequences,maxlen=max_length)"
      ],
      "execution_count": 16,
      "outputs": []
    },
    {
      "cell_type": "code",
      "metadata": {
        "colab": {
          "base_uri": "https://localhost:8080/"
        },
        "id": "BJ6DdcAvvPVK",
        "outputId": "02f0164a-c13b-4df8-aa6b-835485fad147"
      },
      "source": [
        "print(testing_sequences[0])"
      ],
      "execution_count": 17,
      "outputs": [
        {
          "output_type": "stream",
          "text": [
            "[59, 44, 25, 109, 13, 97, 4115, 16, 742, 4370, 10, 14, 316, 5, 2, 593, 354, 16, 1864, 1212, 1, 16, 680, 7499, 5595, 1, 773, 6, 13, 1037, 1, 1, 439, 491, 1, 4, 1, 334, 3610, 20, 229, 3, 15, 5796, 3, 15, 1646, 15, 102, 5, 2, 3597, 101, 11, 1450, 1528, 12, 251, 235, 11, 216, 2, 377, 6429, 3, 62, 95, 11, 174, 105, 11, 1528, 180, 12, 251, 37, 6, 1144, 1, 682, 7, 4452, 1, 4, 1, 334, 7, 37, 8367, 377, 5, 1420, 1, 13, 30, 64, 28, 6, 874, 181, 17, 4, 1050, 5, 12, 224, 3, 83, 4, 353, 33, 353, 5229, 5, 10, 6, 1340, 1160, 2, 5738, 1, 3, 1, 5, 10, 175, 328, 7, 1319, 3989, 4, 798, 1946, 5, 4, 250, 2710, 158, 3, 2, 361, 31, 187, 25, 1170, 499, 610, 5, 2, 122, 2, 356, 1398, 7725, 30, 1, 881, 38, 4, 20, 39, 12, 1, 4, 1, 334, 7, 4, 20, 634, 60, 48, 214]\n"
          ],
          "name": "stdout"
        }
      ]
    },
    {
      "cell_type": "code",
      "metadata": {
        "colab": {
          "base_uri": "https://localhost:8080/"
        },
        "id": "k9oFd6l7vPVK",
        "outputId": "7e9c1c06-6908-4c68-818f-cce58d45e49b"
      },
      "source": [
        "print(testing_padded[0])"
      ],
      "execution_count": 18,
      "outputs": [
        {
          "output_type": "stream",
          "text": [
            "[  11 1450 1528   12  251  235   11  216    2  377 6429    3   62   95\n",
            "   11  174  105   11 1528  180   12  251   37    6 1144    1  682    7\n",
            " 4452    1    4    1  334    7   37 8367  377    5 1420    1   13   30\n",
            "   64   28    6  874  181   17    4 1050    5   12  224    3   83    4\n",
            "  353   33  353 5229    5   10    6 1340 1160    2 5738    1    3    1\n",
            "    5   10  175  328    7 1319 3989    4  798 1946    5    4  250 2710\n",
            "  158    3    2  361   31  187   25 1170  499  610    5    2  122    2\n",
            "  356 1398 7725   30    1  881   38    4   20   39   12    1    4    1\n",
            "  334    7    4   20  634   60   48  214]\n"
          ],
          "name": "stdout"
        }
      ]
    },
    {
      "cell_type": "markdown",
      "metadata": {
        "id": "eZwWmhMNvPVK"
      },
      "source": [
        "# Modelo Keras Bidirecional GRU"
      ]
    },
    {
      "cell_type": "code",
      "metadata": {
        "id": "5NEpdhb8AxID"
      },
      "source": [
        "model = tf.keras.Sequential([\n",
        "    tf.keras.layers.Embedding(vocab_size, embedding_dim, input_length=max_length),\n",
        "    tf.keras.layers.Bidirectional(tf.keras.layers.GRU(32)),\n",
        "    tf.keras.layers.Dense(6, activation='relu'),\n",
        "    tf.keras.layers.Dense(1, activation='sigmoid')\n",
        "])\n",
        "model.compile(loss='binary_crossentropy',optimizer='adam',metrics=['accuracy'])"
      ],
      "execution_count": 19,
      "outputs": []
    },
    {
      "cell_type": "code",
      "metadata": {
        "colab": {
          "base_uri": "https://localhost:8080/"
        },
        "id": "rUd2j5cNvPVL",
        "outputId": "810f50a1-4279-484b-b841-8629ee7a5016"
      },
      "source": [
        "model.summary()"
      ],
      "execution_count": 20,
      "outputs": [
        {
          "output_type": "stream",
          "text": [
            "Model: \"sequential\"\n",
            "_________________________________________________________________\n",
            "Layer (type)                 Output Shape              Param #   \n",
            "=================================================================\n",
            "embedding (Embedding)        (None, 120, 16)           160000    \n",
            "_________________________________________________________________\n",
            "bidirectional (Bidirectional (None, 64)                9600      \n",
            "_________________________________________________________________\n",
            "dense (Dense)                (None, 6)                 390       \n",
            "_________________________________________________________________\n",
            "dense_1 (Dense)              (None, 1)                 7         \n",
            "=================================================================\n",
            "Total params: 169,997\n",
            "Trainable params: 169,997\n",
            "Non-trainable params: 0\n",
            "_________________________________________________________________\n"
          ],
          "name": "stdout"
        }
      ]
    },
    {
      "cell_type": "code",
      "metadata": {
        "collapsed": true,
        "id": "V5LLrXC-uNX6",
        "jupyter": {
          "outputs_hidden": true
        },
        "colab": {
          "base_uri": "https://localhost:8080/"
        },
        "outputId": "42f6fbbe-cf4d-4e00-b4af-e97afbfce7f1"
      },
      "source": [
        "num_epochs = 50\n",
        "history = model.fit(padded, training_labels_final, epochs=num_epochs, validation_data=(testing_padded, testing_labels_final))"
      ],
      "execution_count": 21,
      "outputs": [
        {
          "output_type": "stream",
          "text": [
            "Epoch 1/50\n",
            "782/782 [==============================] - 23s 18ms/step - loss: 0.6133 - accuracy: 0.6134 - val_loss: 0.3667 - val_accuracy: 0.8351\n",
            "Epoch 2/50\n",
            "782/782 [==============================] - 13s 17ms/step - loss: 0.2962 - accuracy: 0.8796 - val_loss: 0.3611 - val_accuracy: 0.8462\n",
            "Epoch 3/50\n",
            "782/782 [==============================] - 13s 17ms/step - loss: 0.2215 - accuracy: 0.9152 - val_loss: 0.3897 - val_accuracy: 0.8307\n",
            "Epoch 4/50\n",
            "782/782 [==============================] - 13s 17ms/step - loss: 0.1708 - accuracy: 0.9368 - val_loss: 0.4615 - val_accuracy: 0.8353\n",
            "Epoch 5/50\n",
            "782/782 [==============================] - 13s 17ms/step - loss: 0.1144 - accuracy: 0.9613 - val_loss: 0.4909 - val_accuracy: 0.8301\n",
            "Epoch 6/50\n",
            "782/782 [==============================] - 13s 17ms/step - loss: 0.0823 - accuracy: 0.9744 - val_loss: 0.5944 - val_accuracy: 0.8217\n",
            "Epoch 7/50\n",
            "782/782 [==============================] - 13s 17ms/step - loss: 0.0457 - accuracy: 0.9855 - val_loss: 0.7193 - val_accuracy: 0.8192\n",
            "Epoch 8/50\n",
            "782/782 [==============================] - 13s 17ms/step - loss: 0.0274 - accuracy: 0.9933 - val_loss: 0.7953 - val_accuracy: 0.8125\n",
            "Epoch 9/50\n",
            "782/782 [==============================] - 13s 17ms/step - loss: 0.0246 - accuracy: 0.9921 - val_loss: 0.8591 - val_accuracy: 0.8159\n",
            "Epoch 10/50\n",
            "782/782 [==============================] - 13s 17ms/step - loss: 0.0167 - accuracy: 0.9943 - val_loss: 0.9182 - val_accuracy: 0.8086\n",
            "Epoch 11/50\n",
            "782/782 [==============================] - 13s 17ms/step - loss: 0.0117 - accuracy: 0.9960 - val_loss: 1.0429 - val_accuracy: 0.8091\n",
            "Epoch 12/50\n",
            "782/782 [==============================] - 13s 17ms/step - loss: 0.0117 - accuracy: 0.9959 - val_loss: 1.1189 - val_accuracy: 0.8020\n",
            "Epoch 13/50\n",
            "782/782 [==============================] - 13s 17ms/step - loss: 0.0146 - accuracy: 0.9951 - val_loss: 1.1518 - val_accuracy: 0.8124\n",
            "Epoch 14/50\n",
            "782/782 [==============================] - 13s 17ms/step - loss: 0.0098 - accuracy: 0.9967 - val_loss: 1.1293 - val_accuracy: 0.8112\n",
            "Epoch 15/50\n",
            "782/782 [==============================] - 13s 17ms/step - loss: 0.0039 - accuracy: 0.9989 - val_loss: 1.2765 - val_accuracy: 0.8129\n",
            "Epoch 16/50\n",
            "782/782 [==============================] - 13s 17ms/step - loss: 0.0053 - accuracy: 0.9986 - val_loss: 1.2123 - val_accuracy: 0.8053\n",
            "Epoch 17/50\n",
            "782/782 [==============================] - 13s 17ms/step - loss: 0.0087 - accuracy: 0.9969 - val_loss: 1.2381 - val_accuracy: 0.8116\n",
            "Epoch 18/50\n",
            "782/782 [==============================] - 13s 17ms/step - loss: 0.0085 - accuracy: 0.9972 - val_loss: 1.2621 - val_accuracy: 0.8080\n",
            "Epoch 19/50\n",
            "782/782 [==============================] - 13s 17ms/step - loss: 0.0045 - accuracy: 0.9988 - val_loss: 1.3144 - val_accuracy: 0.8112\n",
            "Epoch 20/50\n",
            "782/782 [==============================] - 13s 17ms/step - loss: 0.0029 - accuracy: 0.9990 - val_loss: 1.4555 - val_accuracy: 0.8190\n",
            "Epoch 21/50\n",
            "782/782 [==============================] - 13s 17ms/step - loss: 0.0015 - accuracy: 0.9995 - val_loss: 1.3711 - val_accuracy: 0.8016\n",
            "Epoch 22/50\n",
            "782/782 [==============================] - 13s 17ms/step - loss: 0.0067 - accuracy: 0.9976 - val_loss: 1.3947 - val_accuracy: 0.8108\n",
            "Epoch 23/50\n",
            "782/782 [==============================] - 13s 17ms/step - loss: 0.0049 - accuracy: 0.9985 - val_loss: 1.3262 - val_accuracy: 0.8111\n",
            "Epoch 24/50\n",
            "782/782 [==============================] - 13s 17ms/step - loss: 0.0042 - accuracy: 0.9985 - val_loss: 1.3745 - val_accuracy: 0.8144\n",
            "Epoch 25/50\n",
            "782/782 [==============================] - 13s 17ms/step - loss: 0.0017 - accuracy: 0.9996 - val_loss: 1.4478 - val_accuracy: 0.8159\n",
            "Epoch 26/50\n",
            "782/782 [==============================] - 13s 17ms/step - loss: 6.3816e-04 - accuracy: 0.9999 - val_loss: 1.4776 - val_accuracy: 0.8071\n",
            "Epoch 27/50\n",
            "782/782 [==============================] - 13s 17ms/step - loss: 0.0071 - accuracy: 0.9979 - val_loss: 1.2623 - val_accuracy: 0.8088\n",
            "Epoch 28/50\n",
            "782/782 [==============================] - 13s 17ms/step - loss: 0.0041 - accuracy: 0.9985 - val_loss: 1.3227 - val_accuracy: 0.8142\n",
            "Epoch 29/50\n",
            "782/782 [==============================] - 13s 17ms/step - loss: 0.0012 - accuracy: 0.9998 - val_loss: 1.4612 - val_accuracy: 0.8144\n",
            "Epoch 30/50\n",
            "782/782 [==============================] - 13s 17ms/step - loss: 1.5843e-04 - accuracy: 1.0000 - val_loss: 1.5488 - val_accuracy: 0.8151\n",
            "Epoch 31/50\n",
            "782/782 [==============================] - 13s 17ms/step - loss: 3.3029e-05 - accuracy: 1.0000 - val_loss: 1.5894 - val_accuracy: 0.8154\n",
            "Epoch 32/50\n",
            "782/782 [==============================] - 13s 17ms/step - loss: 2.1806e-05 - accuracy: 1.0000 - val_loss: 1.6361 - val_accuracy: 0.8154\n",
            "Epoch 33/50\n",
            "782/782 [==============================] - 13s 17ms/step - loss: 1.4818e-05 - accuracy: 1.0000 - val_loss: 1.6820 - val_accuracy: 0.8154\n",
            "Epoch 34/50\n",
            "782/782 [==============================] - 13s 17ms/step - loss: 9.8325e-06 - accuracy: 1.0000 - val_loss: 1.7313 - val_accuracy: 0.8152\n",
            "Epoch 35/50\n",
            "782/782 [==============================] - 13s 17ms/step - loss: 6.7557e-06 - accuracy: 1.0000 - val_loss: 1.7815 - val_accuracy: 0.8156\n",
            "Epoch 36/50\n",
            "782/782 [==============================] - 13s 16ms/step - loss: 4.7764e-06 - accuracy: 1.0000 - val_loss: 1.8360 - val_accuracy: 0.8156\n",
            "Epoch 37/50\n",
            "782/782 [==============================] - 13s 17ms/step - loss: 3.1233e-06 - accuracy: 1.0000 - val_loss: 1.8901 - val_accuracy: 0.8156\n",
            "Epoch 38/50\n",
            "782/782 [==============================] - 13s 17ms/step - loss: 2.1027e-06 - accuracy: 1.0000 - val_loss: 1.9464 - val_accuracy: 0.8157\n",
            "Epoch 39/50\n",
            "782/782 [==============================] - 13s 17ms/step - loss: 1.4702e-06 - accuracy: 1.0000 - val_loss: 2.0047 - val_accuracy: 0.8157\n",
            "Epoch 40/50\n",
            "782/782 [==============================] - 13s 17ms/step - loss: 9.0600e-07 - accuracy: 1.0000 - val_loss: 2.0588 - val_accuracy: 0.8154\n",
            "Epoch 41/50\n",
            "782/782 [==============================] - 13s 17ms/step - loss: 6.2743e-07 - accuracy: 1.0000 - val_loss: 2.1208 - val_accuracy: 0.8155\n",
            "Epoch 42/50\n",
            "782/782 [==============================] - 13s 17ms/step - loss: 4.1446e-07 - accuracy: 1.0000 - val_loss: 2.1794 - val_accuracy: 0.8153\n",
            "Epoch 43/50\n",
            "782/782 [==============================] - 13s 17ms/step - loss: 2.6968e-07 - accuracy: 1.0000 - val_loss: 2.2381 - val_accuracy: 0.8153\n",
            "Epoch 44/50\n",
            "782/782 [==============================] - 13s 17ms/step - loss: 1.8451e-07 - accuracy: 1.0000 - val_loss: 2.2977 - val_accuracy: 0.8154\n",
            "Epoch 45/50\n",
            "782/782 [==============================] - 13s 17ms/step - loss: 1.2144e-07 - accuracy: 1.0000 - val_loss: 2.3566 - val_accuracy: 0.8148\n",
            "Epoch 46/50\n",
            "782/782 [==============================] - 13s 17ms/step - loss: 8.0232e-08 - accuracy: 1.0000 - val_loss: 2.4166 - val_accuracy: 0.8150\n",
            "Epoch 47/50\n",
            "782/782 [==============================] - 13s 17ms/step - loss: 5.3841e-08 - accuracy: 1.0000 - val_loss: 2.4764 - val_accuracy: 0.8149\n",
            "Epoch 48/50\n",
            "782/782 [==============================] - 13s 17ms/step - loss: 3.6225e-08 - accuracy: 1.0000 - val_loss: 2.5353 - val_accuracy: 0.8150\n",
            "Epoch 49/50\n",
            "782/782 [==============================] - 13s 17ms/step - loss: 2.3323e-08 - accuracy: 1.0000 - val_loss: 2.5926 - val_accuracy: 0.8148\n",
            "Epoch 50/50\n",
            "782/782 [==============================] - 13s 17ms/step - loss: 1.6635e-08 - accuracy: 1.0000 - val_loss: 2.6473 - val_accuracy: 0.8153\n"
          ],
          "name": "stdout"
        }
      ]
    },
    {
      "cell_type": "code",
      "metadata": {
        "id": "nHGYuU4jPYaj"
      },
      "source": [
        "def plot_graphs(history, string):\n",
        "    plt.plot(history.history[string])\n",
        "    plt.plot(history.history['val_'+string])\n",
        "    plt.xlabel(\"Epochs\")\n",
        "    plt.ylabel(string)\n",
        "    plt.legend([string, 'val_'+string])\n",
        "    plt.show()"
      ],
      "execution_count": 22,
      "outputs": []
    },
    {
      "cell_type": "code",
      "metadata": {
        "colab": {
          "base_uri": "https://localhost:8080/",
          "height": 279
        },
        "id": "YszA6BPlxdgn",
        "outputId": "4cdd8b58-1cf2-4829-d6bc-eea958f9094c"
      },
      "source": [
        "plot_graphs(history, 'accuracy')"
      ],
      "execution_count": 23,
      "outputs": [
        {
          "output_type": "display_data",
          "data": {
            "image/png": "[encoded data removed]",
            "text/plain": [
              "<Figure size 432x288 with 1 Axes>"
            ]
          },
          "metadata": {
            "tags": [],
            "needs_background": "light"
          }
        }
      ]
    },
    {
      "cell_type": "code",
      "metadata": {
        "colab": {
          "base_uri": "https://localhost:8080/",
          "height": 279
        },
        "id": "HkNex9scxgWh",
        "outputId": "7884cf75-677f-4cd1-d0b9-0d6f49df513a"
      },
      "source": [
        "plot_graphs(history, 'loss')"
      ],
      "execution_count": 24,
      "outputs": [
        {
          "output_type": "display_data",
          "data": {
            "image/png": "[encoded data removed]",
            "text/plain": [
              "<Figure size 432x288 with 1 Axes>"
            ]
          },
          "metadata": {
            "tags": [],
            "needs_background": "light"
          }
        }
      ]
    }
  ]
}