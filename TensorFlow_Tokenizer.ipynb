{
 "cells": [
  {
   "cell_type": "markdown",
   "metadata": {},
   "source": [
    "# StopWords + Tokenização"
   ]
  },
  {
   "cell_type": "markdown",
   "metadata": {},
   "source": [
    "# Imports"
   ]
  },
  {
   "cell_type": "code",
   "execution_count": 1,
   "metadata": {
    "collapsed": true,
    "jupyter": {
     "outputs_hidden": true
    }
   },
   "outputs": [
    {
     "name": "stderr",
     "output_type": "stream",
     "text": [
      "/home/alana/anaconda3/lib/python3.7/site-packages/tensorboard/compat/tensorflow_stub/dtypes.py:541: FutureWarning: Passing (type, 1) or '1type' as a synonym of type is deprecated; in a future version of numpy, it will be understood as (type, (1,)) / '(1,)type'.\n",
      "  _np_qint8 = np.dtype([(\"qint8\", np.int8, 1)])\n",
      "/home/alana/anaconda3/lib/python3.7/site-packages/tensorboard/compat/tensorflow_stub/dtypes.py:542: FutureWarning: Passing (type, 1) or '1type' as a synonym of type is deprecated; in a future version of numpy, it will be understood as (type, (1,)) / '(1,)type'.\n",
      "  _np_quint8 = np.dtype([(\"quint8\", np.uint8, 1)])\n",
      "/home/alana/anaconda3/lib/python3.7/site-packages/tensorboard/compat/tensorflow_stub/dtypes.py:543: FutureWarning: Passing (type, 1) or '1type' as a synonym of type is deprecated; in a future version of numpy, it will be understood as (type, (1,)) / '(1,)type'.\n",
      "  _np_qint16 = np.dtype([(\"qint16\", np.int16, 1)])\n",
      "/home/alana/anaconda3/lib/python3.7/site-packages/tensorboard/compat/tensorflow_stub/dtypes.py:544: FutureWarning: Passing (type, 1) or '1type' as a synonym of type is deprecated; in a future version of numpy, it will be understood as (type, (1,)) / '(1,)type'.\n",
      "  _np_quint16 = np.dtype([(\"quint16\", np.uint16, 1)])\n",
      "/home/alana/anaconda3/lib/python3.7/site-packages/tensorboard/compat/tensorflow_stub/dtypes.py:545: FutureWarning: Passing (type, 1) or '1type' as a synonym of type is deprecated; in a future version of numpy, it will be understood as (type, (1,)) / '(1,)type'.\n",
      "  _np_qint32 = np.dtype([(\"qint32\", np.int32, 1)])\n",
      "/home/alana/anaconda3/lib/python3.7/site-packages/tensorboard/compat/tensorflow_stub/dtypes.py:550: FutureWarning: Passing (type, 1) or '1type' as a synonym of type is deprecated; in a future version of numpy, it will be understood as (type, (1,)) / '(1,)type'.\n",
      "  np_resource = np.dtype([(\"resource\", np.ubyte, 1)])\n"
     ]
    }
   ],
   "source": [
    "import csv\n",
    "from tensorflow.keras.preprocessing.text import Tokenizer\n",
    "from tensorflow.keras.preprocessing.sequence import pad_sequences\n",
    "import csv\n",
    "import pandas as pd"
   ]
  },
  {
   "cell_type": "markdown",
   "metadata": {},
   "source": [
    "    Lista de StopWords"
   ]
  },
  {
   "cell_type": "code",
   "execution_count": 2,
   "metadata": {},
   "outputs": [],
   "source": [
    "stopwords = [ \"a\", \"about\", \"above\", \"after\", \"again\", \"against\", \"all\", \"am\", \"an\", \"and\", \"any\", \"are\", \"as\", \"at\", \"be\", \"because\", \"been\", \"before\", \"being\", \"below\", \"between\", \"both\", \"but\", \"by\", \"could\", \"did\", \"do\", \"does\", \"doing\", \"down\", \"during\", \"each\", \"few\", \"for\", \"from\", \"further\", \"had\", \"has\", \"have\", \"having\", \"he\", \"he'd\", \"he'll\", \"he's\", \"her\", \"here\", \"here's\", \"hers\", \"herself\", \"him\", \"himself\", \"his\", \"how\", \"how's\", \"i\", \"i'd\", \"i'll\", \"i'm\", \"i've\", \"if\", \"in\", \"into\", \"is\", \"it\", \"it's\", \"its\", \"itself\", \"let's\", \"me\", \"more\", \"most\", \"my\", \"myself\", \"nor\", \"of\", \"on\", \"once\", \"only\", \"or\", \"other\", \"ought\", \"our\", \"ours\", \"ourselves\", \"out\", \"over\", \"own\", \"same\", \"she\", \"she'd\", \"she'll\", \"she's\", \"should\", \"so\", \"some\", \"such\", \"than\", \"that\", \"that's\", \"the\", \"their\", \"theirs\", \"them\", \"themselves\", \"then\", \"there\", \"there's\", \"these\", \"they\", \"they'd\", \"they'll\", \"they're\", \"they've\", \"this\", \"those\", \"through\", \"to\", \"too\", \"under\", \"until\", \"up\", \"very\", \"was\", \"we\", \"we'd\", \"we'll\", \"we're\", \"we've\", \"were\", \"what\", \"what's\", \"when\", \"when's\", \"where\", \"where's\", \"which\", \"while\", \"who\", \"who's\", \"whom\", \"why\", \"why's\", \"with\", \"would\", \"you\", \"you'd\", \"you'll\", \"you're\", \"you've\", \"your\", \"yours\", \"yourself\", \"yourselves\"]"
   ]
  },
  {
   "cell_type": "markdown",
   "metadata": {},
   "source": [
    "# Função para remover os stopwords do texto"
   ]
  },
  {
   "cell_type": "code",
   "execution_count": 23,
   "metadata": {},
   "outputs": [],
   "source": [
    "texto = []\n",
    "labels = []\n",
    "\n",
    "with open(\"/home/alana/Documentos/NLP/COURSERA/BBC/bbc-text.csv\", 'r') as csvfile:\n",
    "    reader = csv.reader(csvfile, delimiter=',')\n",
    "    next(reader)\n",
    "    for row in reader:\n",
    "        labels.append(row[0])\n",
    "        category = row[1]\n",
    "        for word in stopwords:\n",
    "            token = \" \" + word + \" \"\n",
    "            category = category.replace(token, \" \")\n",
    "            category = category.replace(\"  \", \" \")\n",
    "        texto.append(category)"
   ]
  },
  {
   "cell_type": "code",
   "execution_count": 24,
   "metadata": {},
   "outputs": [
    {
     "data": {
      "text/plain": [
       "['tech', 'business', 'sport', 'sport', 'entertainment']"
      ]
     },
     "execution_count": 24,
     "metadata": {},
     "output_type": "execute_result"
    }
   ],
   "source": [
    "labels[0:5]"
   ]
  },
  {
   "cell_type": "code",
   "execution_count": 25,
   "metadata": {},
   "outputs": [
    {
     "data": {
      "text/plain": [
       "'tv future hands viewers home theatre systems plasma high-definition tvs digital video recorders moving living room way people watch tv will radically different five years time. according expert panel gathered annual consumer electronics show las vegas discuss new technologies will impact one favourite pastimes. us leading trend programmes content will delivered viewers via home networks cable satellite telecoms companies broadband service providers front rooms portable devices. one talked-about technologies ces digital personal video recorders (dvr pvr). set-top boxes like us s tivo uk s sky+ system allow people record store play pause forward wind tv programmes want. essentially technology allows much personalised tv. also built-in high-definition tv sets big business japan us slower take off europe lack high-definition programming. not can people forward wind adverts can also forget abiding network channel schedules putting together a-la-carte entertainment. us networks cable satellite companies worried means terms advertising revenues well brand identity viewer loyalty channels. although us leads technology moment also concern raised europe particularly growing uptake services like sky+. happens today will see nine months years time uk adam hume bbc broadcast s futurologist told bbc news website. likes bbc no issues lost advertising revenue yet. pressing issue moment commercial uk broadcasters brand loyalty important everyone. will talking content brands rather network brands said tim hanlon brand communications firm starcom mediavest. reality broadband connections anybody can producer content. added: challenge now hard promote programme much choice. means said stacey jolna senior vice president tv guide tv group way people find content want watch simplified tv viewers. means networks us terms channels take leaf google s book search engine future instead scheduler help people find want watch. kind channel model might work younger ipod generation used taking control gadgets play them. might not suit everyone panel recognised. older generations comfortable familiar schedules channel brands know getting. perhaps not want much choice put hands mr hanlon suggested. end kids just diapers pushing buttons already - everything possible available said mr hanlon. ultimately consumer will tell market want. 50 000 new gadgets technologies showcased ces many enhancing tv-watching experience. high-definition tv sets everywhere many new models lcd (liquid crystal display) tvs launched dvr capability built instead external boxes. one example launched show humax s 26-inch lcd tv 80-hour tivo dvr dvd recorder. one us s biggest satellite tv companies directtv even launched branded dvr show 100-hours recording capability instant replay search function. set can pause rewind tv 90 hours. microsoft chief bill gates announced pre-show keynote speech partnership tivo called tivotogo means people can play recorded programmes windows pcs mobile devices. reflect increasing trend freeing multimedia people can watch want want.'"
      ]
     },
     "execution_count": 25,
     "metadata": {},
     "output_type": "execute_result"
    }
   ],
   "source": [
    "texto[0]"
   ]
  },
  {
   "cell_type": "markdown",
   "metadata": {},
   "source": [
    "# Tokenizer"
   ]
  },
  {
   "cell_type": "code",
   "execution_count": 26,
   "metadata": {},
   "outputs": [],
   "source": [
    "# Instanciar Tokenizer\n",
    "tokenizer = Tokenizer(oov_token=\"<OOV>\")\n",
    "\n",
    "# Função tokenizer para lista de frases\n",
    "tokenizer.fit_on_texts(texto)\n",
    "\n",
    "# Substitui palavras fora do vocabulário durante as chamadas text_to_sequence (OOV)\n",
    "word_index = tokenizer.word_index\n",
    "\n",
    "# Transforma cada texto em uma sequência de inteiros.\n",
    "texto = tokenizer.texts_to_sequences(texto)\n",
    "\n",
    "# Transforma uma lista de sequências em uma matriz Numpy 2D\n",
    "# padding='post' preenche o final da frase com zeros\n",
    "padded = pad_sequences(texto, padding='post')"
   ]
  },
  {
   "cell_type": "code",
   "execution_count": 49,
   "metadata": {},
   "outputs": [
    {
     "data": {
      "text/plain": [
       "96"
      ]
     },
     "execution_count": 49,
     "metadata": {},
     "output_type": "execute_result"
    }
   ],
   "source": [
    "word_index[\"tv\"]"
   ]
  },
  {
   "cell_type": "code",
   "execution_count": 37,
   "metadata": {},
   "outputs": [
    {
     "name": "stdout",
     "output_type": "stream",
     "text": [
      "[  96  176 1158 ...    0    0    0]\n"
     ]
    }
   ],
   "source": [
    "print(padded[0])"
   ]
  },
  {
   "cell_type": "code",
   "execution_count": 38,
   "metadata": {},
   "outputs": [
    {
     "name": "stdout",
     "output_type": "stream",
     "text": [
      "[96, 176, 1158, 1221, 54, 1123, 742, 5215, 85, 1074, 4271, 147, 184, 4131, 1346, 1312, 1597, 47, 9, 949, 96, 4, 6518, 329, 92, 23, 17, 140, 3129, 1332, 2521, 577, 419, 1278, 72, 2963, 3047, 1756, 10, 894, 4, 755, 12, 954, 19516, 11, 656, 1579, 1053, 414, 4, 2002, 1221, 779, 54, 503, 1500, 2115, 1654, 135, 333, 123, 2745, 818, 5216, 1089, 610, 12, 4418, 3851, 894, 2581, 147, 351, 184, 4131, 8816, 5801, 44, 73, 3218, 31, 11, 2, 5477, 22, 2, 1398, 145, 454, 9, 138, 1399, 82, 4602, 489, 5217, 96, 1053, 87, 6519, 83, 2116, 63, 8817, 96, 8, 1124, 621, 85, 1074, 96, 1971, 148, 159, 420, 11, 2879, 46, 56, 149, 1222, 85, 1074, 4419, 5, 13, 9, 489, 5217, 3130, 13, 8, 2694, 6970, 412, 1098, 8818, 1377, 617, 1400, 2081, 14975, 756, 11, 503, 1500, 2115, 135, 1919, 410, 895, 2082, 1620, 43, 1820, 2582, 5000, 5478, 2522, 251, 11, 2636, 83, 819, 8, 1090, 1134, 149, 798, 578, 8819, 136, 31, 1398, 1821, 445, 4, 90, 955, 117, 23, 17, 22, 3397, 19517, 42, 1456, 2, 12600, 28, 42, 99, 362, 2395, 42, 24, 464, 243, 2082, 1378, 341, 5479, 326, 819, 1135, 22, 2637, 1820, 5478, 297, 736, 4, 1177, 414, 2045, 400, 412, 2045, 3, 1313, 12601, 1820, 1854, 70, 19518, 19519, 1795, 333, 1822, 3398, 13, 1202, 414, 48, 857, 21, 270, 2964, 366, 63, 572, 410, 3, 19520, 19521, 671, 1314, 205, 96, 3997, 96, 105, 47, 9, 352, 414, 87, 949, 14976, 96, 1221, 410, 503, 11, 895, 2522, 46, 10925, 851, 2, 547, 403, 1855, 176, 573, 19522, 141, 9, 352, 87, 949, 1203, 1098, 1501, 368, 68, 2046, 1264, 787, 94, 262, 299, 1031, 82, 613, 368, 5, 2583, 736, 1332, 2303, 1669, 6971, 3852, 3219, 8818, 1098, 2045, 185, 395, 1557, 5, 87, 63, 572, 114, 1158, 6, 12601, 975, 100, 3220, 26, 19523, 2350, 8820, 113, 770, 435, 440, 3, 6, 12601, 2638, 419, 4, 1502, 49, 87, 425, 38, 10, 1031, 894, 6972, 2581, 36, 4272, 96, 1723, 852, 85, 1074, 96, 1971, 7523, 36, 10, 1518, 6973, 6974, 4132, 1472, 4271, 648, 8816, 3853, 1124, 573, 4133, 3218, 12, 912, 648, 72, 19524, 2, 1347, 6142, 6973, 96, 1473, 1007, 5477, 8816, 587, 4134, 12, 11, 2, 248, 2115, 96, 135, 19525, 106, 648, 3048, 8816, 72, 501, 712, 2477, 3853, 5218, 3516, 403, 4799, 44, 13, 4602, 9755, 96, 1778, 712, 296, 122, 287, 2809, 344, 657, 72, 3998, 763, 3739, 5477, 163, 19526, 410, 9, 13, 82, 1779, 1053, 825, 874, 89, 610, 3131, 1379, 1579, 9756, 1670, 9, 13, 949, 87, 87]\n"
     ]
    }
   ],
   "source": [
    "print(texto[0])"
   ]
  }
 ],
 "metadata": {
  "kernelspec": {
   "display_name": "Python 3",
   "language": "python",
   "name": "python3"
  },
  "language_info": {
   "codemirror_mode": {
    "name": "ipython",
    "version": 3
   },
   "file_extension": ".py",
   "mimetype": "text/x-python",
   "name": "python",
   "nbconvert_exporter": "python",
   "pygments_lexer": "ipython3",
   "version": "3.7.4"
  }
 },
 "nbformat": 4,
 "nbformat_minor": 4
}
